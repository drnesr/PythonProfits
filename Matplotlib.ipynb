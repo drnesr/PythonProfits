{
 "cells": [
  {
   "cell_type": "code",
   "execution_count": 15,
   "metadata": {
    "ExecuteTime": {
     "end_time": "2021-03-11T03:35:15.652326Z",
     "start_time": "2021-03-11T03:35:15.646318Z"
    }
   },
   "outputs": [],
   "source": [
    "import numpy as np\n",
    "import pandas as pd\n",
    "from matplotlib import pyplot as plt\n",
    "%matplotlib inline\n",
    "import os"
   ]
  },
  {
   "cell_type": "code",
   "execution_count": 12,
   "metadata": {
    "ExecuteTime": {
     "end_time": "2021-03-11T03:04:41.087783Z",
     "start_time": "2021-03-11T03:04:40.981958Z"
    }
   },
   "outputs": [
    {
     "data": {
      "image/png": "[encoded data removed]",
      "text/plain": [
       "<Figure size 432x288 with 1 Axes>"
      ]
     },
     "metadata": {
      "needs_background": "light"
     },
     "output_type": "display_data"
    }
   ],
   "source": [
    "plt.plot(np.arange(1,10));\n",
    "plt.plot(np.random.randint(1,10, size=9), 'ro');"
   ]
  },
  {
   "cell_type": "code",
   "execution_count": 35,
   "metadata": {
    "ExecuteTime": {
     "end_time": "2021-03-11T03:50:37.874733Z",
     "start_time": "2021-03-11T03:50:37.866755Z"
    }
   },
   "outputs": [
    {
     "name": "stdout",
     "output_type": "stream",
     "text": [
      "The file ./Datasets/caesarian.csv has been exported successfully\n"
     ]
    }
   ],
   "source": [
    "# Reading source data\n",
    "# https://archive.ics.uci.edu/ml/datasets/Caesarian+Section+Classification+Dataset\n",
    "\n",
    "# I used the following to get the arff files converted to csv\n",
    "# https://stackoverflow.com/a/64237440/5820024\n",
    "# The solution of https://stackoverflow.com/users/13283137/shubham-mishra\n",
    "\n",
    "path_to_directory = \"./Datasets/\"\n",
    "files = [\n",
    "    arff for arff in os.listdir(path_to_directory) if arff.endswith(\".arff\")\n",
    "]\n",
    "\n",
    "\n",
    "def toCsv(content):\n",
    "    data = False\n",
    "    header = \"\"\n",
    "    newContent = []\n",
    "    for line in content:\n",
    "        if not data:\n",
    "            if \"@attribute\" in line:\n",
    "                attri = line.split()\n",
    "                columnName = attri[attri.index(\"@attribute\") + 1]\n",
    "                # added by DrNesr\n",
    "                columnName =columnName.replace(\"'\", \"\").replace('\"', \"\")\n",
    "                header = header + columnName + \",\"\n",
    "            elif \"@data\" in line:\n",
    "                data = True\n",
    "                header = header[:-1]\n",
    "                header += '\\n'\n",
    "                newContent.append(header)\n",
    "        else:\n",
    "            newContent.append(line)\n",
    "    return newContent\n",
    "\n",
    "\n",
    "# Main loop for reading and writing files\n",
    "for zzzz, file in enumerate(files):\n",
    "    with open(path_to_directory + file, \"r\") as inFile:\n",
    "        content = inFile.readlines()\n",
    "        name, ext = os.path.splitext(inFile.name)\n",
    "        new = toCsv(content)\n",
    "        with open(name + \".csv\", \"w\") as outFile:\n",
    "            outFile.writelines(new)\n",
    "            # added by DrNesr\n",
    "            print(f'The file {name}.csv has been exported successfully')"
   ]
  },
  {
   "cell_type": "code",
   "execution_count": 36,
   "metadata": {
    "ExecuteTime": {
     "end_time": "2021-03-11T03:50:39.332745Z",
     "start_time": "2021-03-11T03:50:39.319808Z"
    }
   },
   "outputs": [
    {
     "data": {
      "text/html": [
       "<div>\n",
       "<style scoped>\n",
       "    .dataframe tbody tr th:only-of-type {\n",
       "        vertical-align: middle;\n",
       "    }\n",
       "\n",
       "    .dataframe tbody tr th {\n",
       "        vertical-align: top;\n",
       "    }\n",
       "\n",
       "    .dataframe thead th {\n",
       "        text-align: right;\n",
       "    }\n",
       "</style>\n",
       "<table border=\"1\" class=\"dataframe\">\n",
       "  <thead>\n",
       "    <tr style=\"text-align: right;\">\n",
       "      <th></th>\n",
       "      <th>Age</th>\n",
       "      <th>Delivery</th>\n",
       "      <th>Delivery.1</th>\n",
       "      <th>Blood</th>\n",
       "      <th>Heart</th>\n",
       "      <th>Caesarian</th>\n",
       "    </tr>\n",
       "  </thead>\n",
       "  <tbody>\n",
       "    <tr>\n",
       "      <th>0</th>\n",
       "      <td>22</td>\n",
       "      <td>1</td>\n",
       "      <td>0</td>\n",
       "      <td>2</td>\n",
       "      <td>0</td>\n",
       "      <td>0</td>\n",
       "    </tr>\n",
       "    <tr>\n",
       "      <th>1</th>\n",
       "      <td>26</td>\n",
       "      <td>2</td>\n",
       "      <td>0</td>\n",
       "      <td>1</td>\n",
       "      <td>0</td>\n",
       "      <td>1</td>\n",
       "    </tr>\n",
       "    <tr>\n",
       "      <th>2</th>\n",
       "      <td>26</td>\n",
       "      <td>2</td>\n",
       "      <td>1</td>\n",
       "      <td>1</td>\n",
       "      <td>0</td>\n",
       "      <td>0</td>\n",
       "    </tr>\n",
       "    <tr>\n",
       "      <th>3</th>\n",
       "      <td>28</td>\n",
       "      <td>1</td>\n",
       "      <td>0</td>\n",
       "      <td>2</td>\n",
       "      <td>0</td>\n",
       "      <td>0</td>\n",
       "    </tr>\n",
       "    <tr>\n",
       "      <th>4</th>\n",
       "      <td>22</td>\n",
       "      <td>2</td>\n",
       "      <td>0</td>\n",
       "      <td>1</td>\n",
       "      <td>0</td>\n",
       "      <td>1</td>\n",
       "    </tr>\n",
       "  </tbody>\n",
       "</table>\n",
       "</div>"
      ],
      "text/plain": [
       "   Age  Delivery  Delivery.1  Blood  Heart  Caesarian\n",
       "0   22         1           0      2      0          0\n",
       "1   26         2           0      1      0          1\n",
       "2   26         2           1      1      0          0\n",
       "3   28         1           0      2      0          0\n",
       "4   22         2           0      1      0          1"
      ]
     },
     "execution_count": 36,
     "metadata": {},
     "output_type": "execute_result"
    }
   ],
   "source": [
    "df = pd.read_csv('./Datasets/caesarian.csv')\n",
    "df.head()"
   ]
  },
  {
   "cell_type": "code",
   "execution_count": 33,
   "metadata": {
    "ExecuteTime": {
     "end_time": "2021-03-11T03:48:24.908493Z",
     "start_time": "2021-03-11T03:48:24.902509Z"
    }
   },
   "outputs": [
    {
     "data": {
      "text/plain": [
       "[\"'Age'\", \"'Delivery\", \"'Delivery.1\", \"'Blood\", \"'Heart\", 'Caesarian']"
      ]
     },
     "execution_count": 33,
     "metadata": {},
     "output_type": "execute_result"
    }
   ],
   "source": [
    "# heads=list(df.columns)\n",
    "# heads\n",
    "# [\"'Age'\", \"'Delivery\", \"'Delivery.1\", \"'Blood\", \"'Heart\", 'Caesarian']"
   ]
  },
  {
   "cell_type": "code",
   "execution_count": 34,
   "metadata": {
    "ExecuteTime": {
     "end_time": "2021-03-11T03:48:26.273843Z",
     "start_time": "2021-03-11T03:48:26.262872Z"
    }
   },
   "outputs": [
    {
     "data": {
      "text/plain": [
       "['Age', 'Delivery', 'Delivery.1', 'Blood', 'Heart', 'Caesarian']"
      ]
     },
     "execution_count": 34,
     "metadata": {},
     "output_type": "execute_result"
    }
   ],
   "source": [
    "# h=heads[0]\n",
    "# h.replace(\"'\",\"\")\n",
    "# heads=list(map(lambda x:x.replace(\"'\",\"\"), heads))\n",
    "# heads\n",
    "# ['Age', 'Delivery', 'Delivery.1', 'Blood', 'Heart', 'Caesarian']"
   ]
  },
  {
   "cell_type": "code",
   "execution_count": null,
   "metadata": {},
   "outputs": [],
   "source": []
  }
 ],
 "metadata": {
  "kernelspec": {
   "display_name": "Python 3",
   "language": "python",
   "name": "python3"
  },
  "language_info": {
   "codemirror_mode": {
    "name": "ipython",
    "version": 3
   },
   "file_extension": ".py",
   "mimetype": "text/x-python",
   "name": "python",
   "nbconvert_exporter": "python",
   "pygments_lexer": "ipython3",
   "version": "3.8.3"
  },
  "varInspector": {
   "cols": {
    "lenName": 16,
    "lenType": 16,
    "lenVar": 40
   },
   "kernels_config": {
    "python": {
     "delete_cmd_postfix": "",
     "delete_cmd_prefix": "del ",
     "library": "var_list.py",
     "varRefreshCmd": "print(var_dic_list())"
    },
    "r": {
     "delete_cmd_postfix": ") ",
     "delete_cmd_prefix": "rm(",
     "library": "var_list.r",
     "varRefreshCmd": "cat(var_dic_list()) "
    }
   },
   "types_to_exclude": [
    "module",
    "function",
    "builtin_function_or_method",
    "instance",
    "_Feature"
   ],
   "window_display": false
  }
 },
 "nbformat": 4,
 "nbformat_minor": 4
}
